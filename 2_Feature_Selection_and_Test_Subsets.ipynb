{
 "cells": [
  {
   "cell_type": "markdown",
   "metadata": {},
   "source": [
    "# Mutual Fund Price Prediction"
   ]
  },
  {
   "cell_type": "markdown",
   "metadata": {},
   "source": [
    "# Mary Donovan Martello"
   ]
  },
  {
   "cell_type": "markdown",
   "metadata": {},
   "source": [
    "## The goal of this project was to design models to predict mutual fund return values and to identify the features that best predict those return values. This notebook includes feature selection and tests different subsets of input features to see which subset(s) may produce the best results in the predictive models."
   ]
  },
  {
   "cell_type": "markdown",
   "metadata": {},
   "source": [
    "# Part 2:  Feature Selection and Test Subsets of Input Features"
   ]
  },
  {
   "cell_type": "code",
   "execution_count": null,
   "metadata": {},
   "outputs": [],
   "source": []
  },
  {
   "cell_type": "code",
   "execution_count": 2,
   "metadata": {},
   "outputs": [],
   "source": [
    "# import libraries\n",
    "from __future__ import print_function, division\n",
    "\n",
    "%matplotlib inline\n",
    "\n",
    "# import libraries\n",
    "\n",
    "import numpy as np\n",
    "import pandas as pd\n",
    "import random\n",
    "import yellowbrick\n",
    "import seaborn as sns\n",
    "import matplotlib.pyplot as plt\n",
    "from IPython.display import Markdown, display\n",
    "\n",
    "from sklearn.preprocessing import StandardScaler\n",
    "from sklearn.decomposition import PCA\n",
    "\n",
    "from sklearn.feature_selection import RFECV\n",
    "from sklearn.linear_model import LinearRegression\n",
    "from sklearn.svm import SVC\n",
    "from sklearn.svm import SVR\n",
    "from sklearn.model_selection import StratifiedKFold\n",
    "from sklearn.model_selection import train_test_split\n",
    "from sklearn.linear_model import Lasso\n",
    "\n",
    "\n",
    "from sklearn import metrics\n",
    "from sklearn.model_selection import StratifiedKFold, KFold, cross_val_score\n",
    "from sklearn.pipeline import make_pipeline\n",
    "\n",
    "#stop unnecessary warnings from printing to the screen\n",
    "import warnings\n",
    "warnings.simplefilter('ignore')"
   ]
  },
  {
   "cell_type": "code",
   "execution_count": null,
   "metadata": {},
   "outputs": [],
   "source": []
  },
  {
   "cell_type": "markdown",
   "metadata": {},
   "source": [
    "### This data source contains 25,000+ mutual funds with 125 features including general aspects (as total net assets, management company and size), portfolio indicators (as cash, stocks, bonds, and sectors), returns (as year-to-date, 2018-10) and financial ratios (as price/earnings, Treynor and Sharpe ratios, alpha, and beta).  The target variable it year-to-date return (ytd_return) of the mutual funds."
   ]
  },
  {
   "cell_type": "code",
   "execution_count": 3,
   "metadata": {},
   "outputs": [],
   "source": [
    "# Load data into a dataframe\n",
    "# import file\n",
    "mf = pd.read_csv('Mutual Funds.csv')\n"
   ]
  },
  {
   "cell_type": "code",
   "execution_count": 4,
   "metadata": {},
   "outputs": [
    {
     "data": {
      "text/html": [
       "<div>\n",
       "<style scoped>\n",
       "    .dataframe tbody tr th:only-of-type {\n",
       "        vertical-align: middle;\n",
       "    }\n",
       "\n",
       "    .dataframe tbody tr th {\n",
       "        vertical-align: top;\n",
       "    }\n",
       "\n",
       "    .dataframe thead th {\n",
       "        text-align: right;\n",
       "    }\n",
       "</style>\n",
       "<table border=\"1\" class=\"dataframe\">\n",
       "  <thead>\n",
       "    <tr style=\"text-align: right;\">\n",
       "      <th></th>\n",
       "      <th>fund_name</th>\n",
       "      <th>fund_extended_name</th>\n",
       "      <th>category</th>\n",
       "      <th>fund_family</th>\n",
       "      <th>net_assets</th>\n",
       "      <th>ytd_return</th>\n",
       "      <th>fund_yield</th>\n",
       "      <th>morningstar_rating</th>\n",
       "      <th>inception_date</th>\n",
       "      <th>investment</th>\n",
       "      <th>...</th>\n",
       "      <th>fund_sharpe_ratio_5years</th>\n",
       "      <th>category_sharpe_ratio_5years</th>\n",
       "      <th>fund_sharpe_ratio_10years</th>\n",
       "      <th>category_sharpe_ratio_10years</th>\n",
       "      <th>fund_treynor_ratio_3years</th>\n",
       "      <th>category_treynor_ratio_3years</th>\n",
       "      <th>fund_treynor_ratio_5years</th>\n",
       "      <th>category_treynor_ratio_5years</th>\n",
       "      <th>fund_treynor_ratio_10years</th>\n",
       "      <th>category_treynor_ratio_10years</th>\n",
       "    </tr>\n",
       "  </thead>\n",
       "  <tbody>\n",
       "    <tr>\n",
       "      <th>0</th>\n",
       "      <td>AAAAX</td>\n",
       "      <td>DWS RREEF Real Assets Fund - Class A</td>\n",
       "      <td>World Allocation</td>\n",
       "      <td>DWS</td>\n",
       "      <td>530280000.0</td>\n",
       "      <td>12.79</td>\n",
       "      <td>1.43</td>\n",
       "      <td>3</td>\n",
       "      <td>2007-07-29</td>\n",
       "      <td>Blend</td>\n",
       "      <td>...</td>\n",
       "      <td>0.31</td>\n",
       "      <td>0.00</td>\n",
       "      <td>0.73</td>\n",
       "      <td>0.01</td>\n",
       "      <td>5.05</td>\n",
       "      <td>0.05</td>\n",
       "      <td>2.26</td>\n",
       "      <td>0.02</td>\n",
       "      <td>6.71</td>\n",
       "      <td>0.07</td>\n",
       "    </tr>\n",
       "    <tr>\n",
       "      <th>1</th>\n",
       "      <td>AAADX</td>\n",
       "      <td>Aberdeen Income Builder Fund Class A</td>\n",
       "      <td>Large Blend</td>\n",
       "      <td>Aberdeen</td>\n",
       "      <td>88840000.0</td>\n",
       "      <td>9.21</td>\n",
       "      <td>2.62</td>\n",
       "      <td>2</td>\n",
       "      <td>2011-12-29</td>\n",
       "      <td>Blend</td>\n",
       "      <td>...</td>\n",
       "      <td>0.62</td>\n",
       "      <td>0.01</td>\n",
       "      <td>0.97</td>\n",
       "      <td>0.01</td>\n",
       "      <td>11.55</td>\n",
       "      <td>0.11</td>\n",
       "      <td>6.91</td>\n",
       "      <td>0.08</td>\n",
       "      <td>12.77</td>\n",
       "      <td>0.14</td>\n",
       "    </tr>\n",
       "  </tbody>\n",
       "</table>\n",
       "<p>2 rows × 125 columns</p>\n",
       "</div>"
      ],
      "text/plain": [
       "  fund_name                    fund_extended_name          category  \\\n",
       "0     AAAAX  DWS RREEF Real Assets Fund - Class A  World Allocation   \n",
       "1     AAADX  Aberdeen Income Builder Fund Class A       Large Blend   \n",
       "\n",
       "  fund_family   net_assets  ytd_return  fund_yield  morningstar_rating  \\\n",
       "0         DWS  530280000.0       12.79        1.43                   3   \n",
       "1    Aberdeen   88840000.0        9.21        2.62                   2   \n",
       "\n",
       "  inception_date investment  ... fund_sharpe_ratio_5years  \\\n",
       "0     2007-07-29      Blend  ...                     0.31   \n",
       "1     2011-12-29      Blend  ...                     0.62   \n",
       "\n",
       "  category_sharpe_ratio_5years  fund_sharpe_ratio_10years  \\\n",
       "0                         0.00                       0.73   \n",
       "1                         0.01                       0.97   \n",
       "\n",
       "   category_sharpe_ratio_10years  fund_treynor_ratio_3years  \\\n",
       "0                           0.01                       5.05   \n",
       "1                           0.01                      11.55   \n",
       "\n",
       "   category_treynor_ratio_3years  fund_treynor_ratio_5years  \\\n",
       "0                           0.05                       2.26   \n",
       "1                           0.11                       6.91   \n",
       "\n",
       "   category_treynor_ratio_5years  fund_treynor_ratio_10years  \\\n",
       "0                           0.02                        6.71   \n",
       "1                           0.08                       12.77   \n",
       "\n",
       "   category_treynor_ratio_10years  \n",
       "0                            0.07  \n",
       "1                            0.14  \n",
       "\n",
       "[2 rows x 125 columns]"
      ]
     },
     "execution_count": 4,
     "metadata": {},
     "output_type": "execute_result"
    }
   ],
   "source": [
    "mf.head(2)"
   ]
  },
  {
   "cell_type": "code",
   "execution_count": null,
   "metadata": {},
   "outputs": [],
   "source": []
  },
  {
   "cell_type": "markdown",
   "metadata": {},
   "source": [
    "### This notebook uses two datasets that were cleaned and prepared in the 1_EDA_Prep_Dimension notebook.  One of the datasets included PCA Components.  The other dataset includes the original features before PCA transformation."
   ]
  },
  {
   "cell_type": "code",
   "execution_count": 3,
   "metadata": {},
   "outputs": [],
   "source": [
    "pcaDf = pd.read_csv('pcaMFdf4.csv')"
   ]
  },
  {
   "cell_type": "code",
   "execution_count": 9,
   "metadata": {},
   "outputs": [],
   "source": [
    "df = pd.read_csv('regMFdf2.csv')"
   ]
  },
  {
   "cell_type": "code",
   "execution_count": null,
   "metadata": {},
   "outputs": [],
   "source": []
  },
  {
   "cell_type": "markdown",
   "metadata": {},
   "source": [
    "## Feature Selection"
   ]
  },
  {
   "cell_type": "markdown",
   "metadata": {},
   "source": [
    "### Best PCA Features"
   ]
  },
  {
   "cell_type": "code",
   "execution_count": 57,
   "metadata": {},
   "outputs": [],
   "source": [
    "# function to show best features from the PCA analysis (and the original feature names)\n",
    "model = PCA(n_components=57, whiten=True).fit(qPredictors)\n",
    "X_pc = model.transform(qPredictors)\n",
    "# number of components\n",
    "n_pcs= model.components_.shape[0]\n",
    "# get the index of the most important feature on EACH component\n",
    "# LIST COMPREHENSION HERE\n",
    "most_important = [np.abs(model.components_[i]).argmax() for i in range(n_pcs)]\n",
    "initial_feature_names = ['fund_yield', 'morningstar_rating', 'net_annual_expense_ratio_fund',\n",
    "       'net_annual_expense_ratio_category', 'portfolio_cash',\n",
    "       'portfolio_stocks', 'portfolio_bonds', 'portfolio_others',\n",
    "       'portfolio_preferred', 'portfolio_convertable', 'price_book',\n",
    "       'median_market_cap', 'basic_materials', 'consumer_cyclical',\n",
    "       'financial_services', 'real_estate', 'consumer_defensive', 'healthcare',\n",
    "       'utilities', 'communication_services', 'energy', 'industrials',\n",
    "       'technology', 'rating_aaa', 'rating_aa', 'rating_a', 'rating_bbb',\n",
    "       'rating_bb', 'rating_b', 'rating_below_b', 'rating_others',\n",
    "       'morningstar_return_rating', 'category_return_ytd',\n",
    "       'fund_return_1month', 'category_return_1month', 'fund_return_3months',\n",
    "       'fund_return_1year', 'category_return_1year', 'fund_return_3years',\n",
    "       'category_return_3years', 'fund_return_5years',\n",
    "       'category_return_5years', 'fund_return_10years',\n",
    "       'category_return_10years', 'fund_return_2018', 'category_return_2018',\n",
    "       'fund_return_2017', 'category_return_2017', 'fund_return_2016',\n",
    "       'category_return_2016', 'fund_return_2015', 'category_return_2015',\n",
    "       'category_return_2011', 'morningstar_risk_rating', 'years_up',\n",
    "       'years_down', 'fund_alpha_3years', 'category_alpha_3years',\n",
    "       'fund_alpha_5years', 'category_alpha_5years', 'category_alpha_10years',\n",
    "       'fund_beta_3years', 'category_beta_3years', 'fund_beta_5years',\n",
    "       'category_beta_5years', 'category_beta_10years',\n",
    "       'fund_mean_annual_return_3years', 'category_mean_annual_return_3years',\n",
    "       'fund_mean_annual_return_5years', 'category_mean_annual_return_5years',\n",
    "       'category_mean_annual_return_10years', 'fund_r_squared_3years',\n",
    "       'category_r_squared_3years', 'fund_r_squared_5years',\n",
    "       'category_r_squared_5years', 'category_r_squared_10years',\n",
    "       'fund_standard_deviation_3years', 'category_standard_deviation_3years',\n",
    "       'fund_standard_deviation_5years', 'category_standard_deviation_5years',\n",
    "       'category_standard_deviation_10years', 'fund_sharpe_ratio_3years',\n",
    "       'category_sharpe_ratio_3years', 'fund_sharpe_ratio_5years',\n",
    "       'category_sharpe_ratio_5years', 'category_sharpe_ratio_10years',\n",
    "       'category_treynor_ratio_3years', 'category_treynor_ratio_5years',\n",
    "       'category_treynor_ratio_10years', 'net_assets']\n",
    "# get the names\n",
    "most_important_names = [initial_feature_names[most_important[i]] for i in range(n_pcs)]\n",
    "# LIST COMPREHENSION HERE AGAIN\n",
    "dic = {'PC{}'.format(i+1): most_important_names[i] for i in range(n_pcs)}\n",
    "# build the dataframe\n",
    "dfpca = pd.DataFrame(sorted(dic.items()))"
   ]
  },
  {
   "cell_type": "code",
   "execution_count": 58,
   "metadata": {},
   "outputs": [
    {
     "name": "stdout",
     "output_type": "stream",
     "text": [
      "       0                               1\n",
      "0    PC1                      net_assets\n",
      "1   PC10                fund_return_2015\n",
      "2   PC11                      price_book\n",
      "3   PC12                      price_book\n",
      "4   PC13            category_return_2016\n",
      "5   PC14            category_return_2011\n",
      "6   PC15                fund_return_2018\n",
      "7   PC16                      rating_aaa\n",
      "8   PC17            category_return_2015\n",
      "9   PC18            category_return_2015\n",
      "10  PC19                        rating_a\n",
      "11   PC2               median_market_cap\n",
      "12  PC20                      fund_yield\n",
      "13  PC21         morningstar_risk_rating\n",
      "14  PC22                     real_estate\n",
      "15  PC23                      rating_aaa\n",
      "16  PC24                          energy\n",
      "17  PC25            category_return_2018\n",
      "18  PC26              fund_return_1month\n",
      "19  PC27              fund_return_1month\n",
      "20  PC28             fund_return_10years\n",
      "21  PC29                      fund_yield\n",
      "22   PC3                portfolio_stocks\n",
      "23  PC30                  portfolio_cash\n",
      "24  PC31                     real_estate\n",
      "25  PC32                   rating_others\n",
      "26  PC33                      healthcare\n",
      "27  PC34                     industrials\n",
      "28  PC35          communication_services\n",
      "29  PC36                 basic_materials\n",
      "30  PC37                     industrials\n",
      "31  PC38                 basic_materials\n",
      "32  PC39              consumer_defensive\n",
      "33   PC4           fund_r_squared_5years\n",
      "34  PC40              financial_services\n",
      "35  PC41  category_treynor_ratio_10years\n",
      "36  PC42                portfolio_others\n",
      "37  PC43                        years_up\n",
      "38  PC44                      healthcare\n",
      "39  PC45   net_annual_expense_ratio_fund\n",
      "40  PC46  category_treynor_ratio_10years\n",
      "41  PC47            category_return_2017\n",
      "42  PC48             portfolio_preferred\n",
      "43  PC49                  rating_below_b\n",
      "44   PC5               fund_return_1year\n",
      "45  PC50              fund_return_5years\n",
      "46  PC51             portfolio_preferred\n",
      "47  PC52                        rating_a\n",
      "48  PC53       morningstar_return_rating\n",
      "49  PC54                        rating_b\n",
      "50  PC55                        rating_b\n",
      "51  PC56                fund_beta_5years\n",
      "52  PC57          category_return_1month\n",
      "53   PC6                fund_return_2017\n",
      "54   PC7                 portfolio_bonds\n",
      "55   PC8                fund_return_2017\n",
      "56   PC9                fund_return_2015\n"
     ]
    }
   ],
   "source": [
    "# print the most important PCA components with the labels from original dataframe\n",
    "print(dfpca)"
   ]
  },
  {
   "cell_type": "code",
   "execution_count": null,
   "metadata": {},
   "outputs": [],
   "source": []
  },
  {
   "cell_type": "markdown",
   "metadata": {},
   "source": [
    "### Recursive Feature Selection"
   ]
  },
  {
   "cell_type": "markdown",
   "metadata": {},
   "source": [
    "> See if RFECV will narrow down important features for the models."
   ]
  },
  {
   "cell_type": "markdown",
   "metadata": {},
   "source": [
    "scikit-learn's RFECV to conduct recursive feature elimination using cross-validation\n",
    "\n"
   ]
  },
  {
   "cell_type": "code",
   "execution_count": 317,
   "metadata": {},
   "outputs": [],
   "source": [
    "from sklearn.linear_model import LinearRegression\n",
    "from sklearn.svm import SVC\n",
    "from sklearn.model_selection import StratifiedKFold\n",
    "from sklearn.feature_selection import RFECV\n"
   ]
  },
  {
   "cell_type": "code",
   "execution_count": 318,
   "metadata": {},
   "outputs": [],
   "source": [
    "# create a linear regression\n",
    "ols = LinearRegression()"
   ]
  },
  {
   "cell_type": "code",
   "execution_count": 319,
   "metadata": {},
   "outputs": [],
   "source": [
    "# separate into input and output columns (X variable for features and y for target variables)\n",
    "\n",
    "X = df.drop(['ytd_return', 'investment', 'size'], axis = 1) \n",
    "y = df['ytd_return']"
   ]
  },
  {
   "cell_type": "code",
   "execution_count": 320,
   "metadata": {},
   "outputs": [
    {
     "data": {
      "text/plain": [
       "(11796, 90)"
      ]
     },
     "execution_count": 320,
     "metadata": {},
     "output_type": "execute_result"
    }
   ],
   "source": [
    "# check shape\n",
    "X.shape"
   ]
  },
  {
   "cell_type": "code",
   "execution_count": 321,
   "metadata": {},
   "outputs": [
    {
     "data": {
      "text/plain": [
       "RFECV(estimator=LinearRegression(), scoring='neg_mean_squared_error')"
      ]
     },
     "execution_count": 321,
     "metadata": {},
     "output_type": "execute_result"
    }
   ],
   "source": [
    "# recursively eliminate features\n",
    "rfecv = RFECV(estimator=ols, step=1, \n",
    "              scoring='neg_mean_squared_error')\n",
    "rfecv.fit(X, y)"
   ]
  },
  {
   "cell_type": "code",
   "execution_count": 322,
   "metadata": {},
   "outputs": [
    {
     "data": {
      "text/plain": [
       "array([[ 1.43,  3.  ,  1.22, ...,  0.01,  0.05,  0.02],\n",
       "       [ 0.  ,  3.  ,  1.15, ...,  0.01,  0.13,  0.1 ],\n",
       "       [ 1.38,  4.  ,  0.91, ...,  0.01,  0.05,  0.03],\n",
       "       ...,\n",
       "       [ 1.78,  5.  ,  0.76, ...,  0.01,  0.09,  0.07],\n",
       "       [ 1.36,  4.  ,  1.27, ...,  0.01,  0.11,  0.08],\n",
       "       [ 0.  ,  2.  ,  3.19, ...,  0.  ,  0.05, -0.09]])"
      ]
     },
     "execution_count": 322,
     "metadata": {},
     "output_type": "execute_result"
    }
   ],
   "source": [
    "rfecv.transform(X)"
   ]
  },
  {
   "cell_type": "code",
   "execution_count": 323,
   "metadata": {},
   "outputs": [
    {
     "data": {
      "text/plain": [
       "86"
      ]
     },
     "execution_count": 323,
     "metadata": {},
     "output_type": "execute_result"
    }
   ],
   "source": [
    "# of best features\n",
    "rfecv.n_features_"
   ]
  },
  {
   "cell_type": "code",
   "execution_count": 324,
   "metadata": {},
   "outputs": [
    {
     "data": {
      "text/plain": [
       "array([ True,  True,  True,  True,  True, False,  True,  True,  True,\n",
       "        True,  True, False,  True,  True,  True,  True,  True,  True,\n",
       "        True,  True,  True,  True,  True,  True,  True,  True,  True,\n",
       "        True,  True,  True,  True,  True,  True,  True,  True,  True,\n",
       "        True,  True,  True,  True,  True,  True,  True,  True,  True,\n",
       "        True,  True,  True,  True,  True,  True,  True,  True,  True,\n",
       "        True,  True,  True,  True,  True,  True,  True,  True,  True,\n",
       "        True,  True,  True,  True,  True,  True,  True,  True,  True,\n",
       "        True,  True,  True,  True,  True,  True,  True,  True,  True,\n",
       "        True,  True,  True,  True,  True,  True,  True, False, False])"
      ]
     },
     "execution_count": 324,
     "metadata": {},
     "output_type": "execute_result"
    }
   ],
   "source": [
    "# which categories are best\n",
    "rfecv.support_"
   ]
  },
  {
   "cell_type": "code",
   "execution_count": 326,
   "metadata": {},
   "outputs": [
    {
     "data": {
      "text/plain": [
       "array([1, 1, 1, 1, 1, 2, 1, 1, 1, 1, 1, 4, 1, 1, 1, 1, 1, 1, 1, 1, 1, 1,\n",
       "       1, 1, 1, 1, 1, 1, 1, 1, 1, 1, 1, 1, 1, 1, 1, 1, 1, 1, 1, 1, 1, 1,\n",
       "       1, 1, 1, 1, 1, 1, 1, 1, 1, 1, 1, 1, 1, 1, 1, 1, 1, 1, 1, 1, 1, 1,\n",
       "       1, 1, 1, 1, 1, 1, 1, 1, 1, 1, 1, 1, 1, 1, 1, 1, 1, 1, 1, 1, 1, 1,\n",
       "       3, 5])"
      ]
     },
     "execution_count": 326,
     "metadata": {},
     "output_type": "execute_result"
    }
   ],
   "source": [
    "# Rank features best (1) to worst\n",
    "rfecv.ranking_"
   ]
  },
  {
   "cell_type": "code",
   "execution_count": null,
   "metadata": {},
   "outputs": [],
   "source": []
  },
  {
   "cell_type": "markdown",
   "metadata": {},
   "source": [
    "## Test Subsets of Input Features"
   ]
  },
  {
   "cell_type": "code",
   "execution_count": null,
   "metadata": {},
   "outputs": [],
   "source": []
  },
  {
   "cell_type": "markdown",
   "metadata": {},
   "source": [
    "**Create feature dataframes for modeling.**"
   ]
  },
  {
   "cell_type": "code",
   "execution_count": 5,
   "metadata": {},
   "outputs": [
    {
     "name": "stdout",
     "output_type": "stream",
     "text": [
      "   investment_Blend  investment_Growth  investment_Value  size_Large  \\\n",
      "0                 1                  0                 0           1   \n",
      "1                 0                  1                 0           1   \n",
      "2                 0                  1                 0           1   \n",
      "3                 1                  0                 0           1   \n",
      "4                 1                  0                 0           1   \n",
      "5                 0                  1                 0           1   \n",
      "6                 1                  0                 0           1   \n",
      "7                 1                  0                 0           1   \n",
      "\n",
      "   size_Medium  size_Small  \n",
      "0            0           0  \n",
      "1            0           0  \n",
      "2            0           0  \n",
      "3            0           0  \n",
      "4            0           0  \n",
      "5            0           0  \n",
      "6            0           0  \n",
      "7            0           0  \n"
     ]
    }
   ],
   "source": [
    "# convert categorical data to numbers\n",
    "\n",
    "#get the categorical data\n",
    "cat_features = ['investment', 'size']\n",
    "df_cat = pcaDf[cat_features]\n",
    "\n",
    "# One Hot Encoding \n",
    "dfDumm = pd.get_dummies(df_cat)\n",
    "\n",
    "# check the data\n",
    "print(dfDumm.head(8))"
   ]
  },
  {
   "cell_type": "markdown",
   "metadata": {},
   "source": [
    "> Create separate dataframes/variables for the feature variables and the target variable "
   ]
  },
  {
   "cell_type": "code",
   "execution_count": 6,
   "metadata": {},
   "outputs": [],
   "source": [
    "# create a whole features dataset that can be used for train and validation data splitting\n",
    "# here we will combine the numerical features and the dummie features together\n",
    "dfNum = pcaDf.drop(['ytd_return', 'investment', 'size'], axis = 1)\n",
    "X = pd.concat([dfNum, dfDumm], axis=1)\n",
    "# create a whole target dataset that can be used for train and validation data splitting\n",
    "y =  pcaDf['ytd_return']\n"
   ]
  },
  {
   "cell_type": "code",
   "execution_count": null,
   "metadata": {},
   "outputs": [],
   "source": []
  },
  {
   "cell_type": "markdown",
   "metadata": {},
   "source": [
    "## Implement a baseline model for comparison to enhanced models and subsets of features."
   ]
  },
  {
   "cell_type": "markdown",
   "metadata": {},
   "source": [
    "> Before using k-fold cross-validation for model evaluation, use holdout method to create a baseline linear regression model for comparison. Data was scaled before PCA analysis and therefore no further scaling of the training dataset."
   ]
  },
  {
   "cell_type": "code",
   "execution_count": 7,
   "metadata": {},
   "outputs": [],
   "source": [
    "# separate data into training and validation \n",
    "XTrain, XTest, yTrain, yTest = train_test_split(X, y, test_size =0.3, random_state=11)"
   ]
  },
  {
   "cell_type": "markdown",
   "metadata": {},
   "source": [
    "> Baseline linear regression model."
   ]
  },
  {
   "cell_type": "code",
   "execution_count": 8,
   "metadata": {},
   "outputs": [
    {
     "name": "stdout",
     "output_type": "stream",
     "text": [
      "0.9615529409719875\n"
     ]
    }
   ],
   "source": [
    "# to compare a k-fold cross-validation data split, train a model and evaluate the performance score of the holdout data method\n",
    "#train simple linear regression model\n",
    "\n",
    "# Instantiate the linear regression model using default parameters\n",
    "ols11_2=LinearRegression()\n",
    "\n",
    "# Fit the model with training data\n",
    "ols11_2.fit(XTrain, yTrain)\n",
    "\n",
    "# evaluate the baseline with the r-squared score\n",
    "print(ols11_2.score(XTest, yTest))"
   ]
  },
  {
   "cell_type": "markdown",
   "metadata": {},
   "source": [
    "Predict the target using the test data."
   ]
  },
  {
   "cell_type": "code",
   "execution_count": 9,
   "metadata": {},
   "outputs": [],
   "source": [
    "# predicting on XTest\n",
    "\n",
    "pred = ols11_2.predict(XTest)"
   ]
  },
  {
   "cell_type": "markdown",
   "metadata": {},
   "source": [
    "Show residuals from the predictions using a residual plot."
   ]
  },
  {
   "cell_type": "code",
   "execution_count": 10,
   "metadata": {},
   "outputs": [
    {
     "data": {
      "text/plain": [
       "Text(0.5, 1.0, 'Residual plot')"
      ]
     },
     "execution_count": 10,
     "metadata": {},
     "output_type": "execute_result"
    },
    {
     "data": {
      "image/png": "[encoded data removed]",
      "text/plain": [
       "<Figure size 576x396 with 1 Axes>"
      ]
     },
     "metadata": {},
     "output_type": "display_data"
    }
   ],
   "source": [
    "# residual plot\n",
    "Xplot = plt.scatter(pred, (pred - yTest), c='b')\n",
    "\n",
    "plt.hlines(y=0, xmin= -20, xmax=50)\n",
    "\n",
    "plt.title('Residual plot')"
   ]
  },
  {
   "cell_type": "code",
   "execution_count": null,
   "metadata": {},
   "outputs": [],
   "source": []
  },
  {
   "cell_type": "code",
   "execution_count": null,
   "metadata": {},
   "outputs": [],
   "source": []
  },
  {
   "cell_type": "markdown",
   "metadata": {},
   "source": [
    "## Test different subsets of input features to see which subset(s) may produce the best results in the predictive models."
   ]
  },
  {
   "cell_type": "markdown",
   "metadata": {},
   "source": [
    "Above, I ran a function to see which of the PCA components are the best features.  I ran various basic regression models using those variables to see how well they did compared to the baseline linear regression model with all variables.  The top PCA components did not result in good baseline regression models."
   ]
  },
  {
   "cell_type": "markdown",
   "metadata": {},
   "source": [
    "Next, I created subsets of the features and ran baseline linear regression models with these subsets to try to identify a smaller set of variables to use model evaluation instead of using all the features.  Below are the best performing of those subsets in baseline linear regression models."
   ]
  },
  {
   "cell_type": "code",
   "execution_count": null,
   "metadata": {},
   "outputs": [],
   "source": []
  },
  {
   "cell_type": "code",
   "execution_count": 12,
   "metadata": {},
   "outputs": [
    {
     "name": "stdout",
     "output_type": "stream",
     "text": [
      "0.7129487498094862\n"
     ]
    }
   ],
   "source": [
    "# create a subset of the df that can be used for train and validation data splitting\n",
    "\n",
    "subset1 = df.loc[:, ['portfolio_cash',\n",
    " 'portfolio_stocks',\n",
    " 'portfolio_bonds',\n",
    " 'portfolio_others',\n",
    " 'portfolio_preferred',\n",
    " 'portfolio_convertable']]\n",
    "\n",
    "# separate data into training and validation \n",
    "S1Train, S1Test, yTrain_S1, yTest_S1 = train_test_split(subset1, y, test_size =0.3, random_state=11)\n",
    "\n",
    "# Instantiate the linear regression model using default parameters\n",
    "olsS1 = LinearRegression()\n",
    "\n",
    "# Fit the model with training data\n",
    "olsS1.fit(S1Train, yTrain_S1)\n",
    "\n",
    "# evaluate the baseline with the r-squared score\n",
    "print(olsS1.score(S1Test, yTest_S1))"
   ]
  },
  {
   "cell_type": "code",
   "execution_count": 149,
   "metadata": {},
   "outputs": [
    {
     "name": "stdout",
     "output_type": "stream",
     "text": [
      "0.4788733496452161\n"
     ]
    }
   ],
   "source": [
    "# create a subset of the df that can be used for train and validation data splitting\n",
    "\n",
    "subset2 = df.loc[:, [\n",
    " 'rating_aaa',\n",
    " 'rating_aa',\n",
    " 'rating_a',\n",
    " 'rating_bbb',\n",
    " 'rating_bb',\n",
    " 'rating_b',\n",
    " 'rating_below_b',\n",
    " 'rating_others']]\n",
    "\n",
    "# separate data into training and validation \n",
    "S2Train, S2Test, yTrain_S2, yTest_S2 = train_test_split(subset2, y, test_size =0.3, random_state=11)\n",
    "\n",
    "# Instantiate the linear regression model using default parameters\n",
    "olsS2 = LinearRegression()\n",
    "\n",
    "# Fit the model with training data\n",
    "olsS2.fit(S2Train, yTrain_S2)\n",
    "\n",
    "# evaluate the baseline with the r-squared score\n",
    "print(olsS2.score(S2Test, yTest_S2))"
   ]
  },
  {
   "cell_type": "code",
   "execution_count": 11,
   "metadata": {},
   "outputs": [
    {
     "name": "stdout",
     "output_type": "stream",
     "text": [
      "0.9603314014662799\n"
     ]
    }
   ],
   "source": [
    "# create a subset of the df that can be used for train and validation data splitting\n",
    "\n",
    "subset3 = df.loc[:, [\n",
    " 'fund_return_1month',\n",
    " 'category_return_1month',\n",
    " 'fund_return_3months',\n",
    " 'fund_return_1year',\n",
    " 'category_return_1year',\n",
    " 'fund_return_3years',\n",
    " 'category_return_3years',\n",
    " 'fund_return_5years',\n",
    " 'category_return_5years',\n",
    " 'fund_return_10years',\n",
    " 'category_return_10years',\n",
    " 'fund_return_2018',\n",
    " 'category_return_2018',\n",
    " 'fund_return_2017',\n",
    " 'category_return_2017',\n",
    " 'fund_return_2016',\n",
    " 'category_return_2016',\n",
    " 'fund_return_2015',\n",
    " 'category_return_2015']]\n",
    "\n",
    "# separate data into training and validation \n",
    "S3Train, S3Test, yTrain_S3, yTest_S3 = train_test_split(subset3, y, test_size =0.3, random_state=11)\n",
    "\n",
    "# Instantiate the linear regression model using default parameters\n",
    "olsS3 = LinearRegression()\n",
    "\n",
    "# Fit the model with training data\n",
    "olsS3.fit(S3Train, yTrain_S3)\n",
    "\n",
    "# evaluate the baseline with the r-squared score\n",
    "print(olsS3.score(S3Test, yTest_S3))"
   ]
  },
  {
   "cell_type": "code",
   "execution_count": 165,
   "metadata": {},
   "outputs": [
    {
     "name": "stdout",
     "output_type": "stream",
     "text": [
      "0.838066638842735\n"
     ]
    }
   ],
   "source": [
    "# create a subset of the df that can be used for train and validation data splitting\n",
    "\n",
    "subset4 = df.loc[:, [\n",
    " 'category_return_1month',\n",
    " 'category_return_1year',\n",
    " 'category_return_3years',\n",
    " 'category_return_5years',\n",
    " 'category_return_10years',\n",
    " 'category_return_2018',\n",
    " 'category_return_2017',\n",
    " 'category_return_2016',\n",
    " 'category_return_2015']]\n",
    "\n",
    "# separate data into training and validation \n",
    "S4Train, S4Test, yTrain_S4, yTest_S4 = train_test_split(subset4, y, test_size =0.3, random_state=11)\n",
    "\n",
    "# Instantiate the linear regression model using default parameters\n",
    "olsS4 = LinearRegression()\n",
    "\n",
    "# Fit the model with training data\n",
    "olsS4.fit(S4Train, yTrain_S4)\n",
    "\n",
    "# evaluate the baseline with the r-squared score\n",
    "print(olsS4.score(S4Test, yTest_S4))"
   ]
  },
  {
   "cell_type": "code",
   "execution_count": 167,
   "metadata": {},
   "outputs": [
    {
     "name": "stdout",
     "output_type": "stream",
     "text": [
      "0.9562559679065663\n"
     ]
    }
   ],
   "source": [
    "# create a subset of the df that can be used for train and validation data splitting\n",
    "\n",
    "subset5 = df.loc[:, [\n",
    " 'fund_return_1month',\n",
    " 'fund_return_3months',\n",
    " 'fund_return_1year',\n",
    " 'fund_return_3years',\n",
    " 'fund_return_5years',\n",
    " 'fund_return_10years',\n",
    " 'fund_return_2018',\n",
    " 'fund_return_2017',\n",
    " 'fund_return_2016',\n",
    " 'fund_return_2015']]\n",
    "\n",
    "# separate data into training and validation \n",
    "S5Train, S5Test, yTrain_S5, yTest_S5 = train_test_split(subset5, y, test_size =0.3, random_state=11)\n",
    "\n",
    "# Instantiate the linear regression model using default parameters\n",
    "olsS5 = LinearRegression()\n",
    "\n",
    "# Fit the model with training data\n",
    "olsS5.fit(S5Train, yTrain_S5)\n",
    "\n",
    "# evaluate the baseline with the r-squared score\n",
    "print(olsS5.score(S5Test, yTest_S5))"
   ]
  },
  {
   "cell_type": "code",
   "execution_count": 172,
   "metadata": {},
   "outputs": [
    {
     "name": "stdout",
     "output_type": "stream",
     "text": [
      "0.8108853227418291\n"
     ]
    }
   ],
   "source": [
    "# create a subset of the df that can be used for train and validation data splitting\n",
    "\n",
    "subset6 = df.loc[:, [\n",
    " 'fund_mean_annual_return_3years',\n",
    " 'category_mean_annual_return_3years',\n",
    " 'fund_mean_annual_return_5years',\n",
    " 'category_mean_annual_return_5years',\n",
    " 'category_mean_annual_return_10years']]\n",
    "\n",
    "# separate data into training and validation \n",
    "S6Train, S6Test, yTrain_S6, yTest_S6 = train_test_split(subset6, y, test_size =0.3, random_state=11)\n",
    "\n",
    "# Instantiate the linear regression model using default parameters\n",
    "olsS6 = LinearRegression()\n",
    "\n",
    "# Fit the model with training data\n",
    "olsS6.fit(S6Train, yTrain_S6)\n",
    "\n",
    "# evaluate the baseline with the r-squared score\n",
    "print(olsS6.score(S6Test, yTest_S6))"
   ]
  },
  {
   "cell_type": "code",
   "execution_count": 175,
   "metadata": {},
   "outputs": [
    {
     "name": "stdout",
     "output_type": "stream",
     "text": [
      "0.7895946634427098\n"
     ]
    }
   ],
   "source": [
    "# create a subset of the df that can be used for train and validation data splitting\n",
    "\n",
    "subset7 = df.loc[:, [\n",
    " 'fund_standard_deviation_3years',\n",
    " 'category_standard_deviation_3years',\n",
    " 'fund_standard_deviation_5years',\n",
    " 'category_standard_deviation_5years',\n",
    " 'category_standard_deviation_10years']]\n",
    "\n",
    "# separate data into training and validation \n",
    "S7Train, S7Test, yTrain_S7, yTest_S7 = train_test_split(subset7, y, test_size =0.3, random_state=11)\n",
    "\n",
    "# Instantiate the linear regression model using default parameters\n",
    "olsS7 = LinearRegression()\n",
    "\n",
    "# Fit the model with training data\n",
    "olsS7.fit(S7Train, yTrain_S7)\n",
    "\n",
    "# evaluate the baseline with the r-squared score\n",
    "print(olsS7.score(S7Test, yTest_S7))"
   ]
  },
  {
   "cell_type": "code",
   "execution_count": 13,
   "metadata": {},
   "outputs": [
    {
     "name": "stdout",
     "output_type": "stream",
     "text": [
      "0.23751658729364955\n"
     ]
    }
   ],
   "source": [
    "# create a subset of the df that can be used for train and validation data splitting\n",
    "\n",
    "subset8 = dfDumm.loc[:, [\n",
    " 'investment_Blend',\n",
    " 'investment_Growth',\n",
    " 'investment_Value']]\n",
    "\n",
    "# separate data into training and validation \n",
    "S8Train, S8Test, yTrain_S8, yTest_S8 = train_test_split(subset8, y, test_size =0.3, random_state=11)\n",
    "\n",
    "# Instantiate the linear regression model using default parameters\n",
    "olsS8 = LinearRegression()\n",
    "\n",
    "# Fit the model with training data\n",
    "olsS8.fit(S8Train, yTrain_S8)\n",
    "\n",
    "# evaluate the baseline with the r-squared score\n",
    "print(olsS8.score(S8Test, yTest_S8))"
   ]
  },
  {
   "cell_type": "code",
   "execution_count": 182,
   "metadata": {},
   "outputs": [
    {
     "name": "stdout",
     "output_type": "stream",
     "text": [
      "0.10695349234587892\n"
     ]
    }
   ],
   "source": [
    "# create a subset of the df that can be used for train and validation data splitting\n",
    "\n",
    "subset9 = dfDumm.loc[:, [\n",
    " 'size_Large',\n",
    " 'size_Medium',\n",
    " 'size_Small']]\n",
    "\n",
    "# separate data into training and validation \n",
    "S9Train, S9Test, yTrain_S9, yTest_S9 = train_test_split(subset9, y, test_size =0.3, random_state=11)\n",
    "\n",
    "# Instantiate the linear regression model using default parameters\n",
    "olsS9 = LinearRegression()\n",
    "\n",
    "# Fit the model with training data\n",
    "olsS9.fit(S9Train, yTrain_S9)\n",
    "\n",
    "# evaluate the baseline with the r-squared score\n",
    "print(olsS9.score(S9Test, yTest_S9))"
   ]
  },
  {
   "cell_type": "code",
   "execution_count": 190,
   "metadata": {},
   "outputs": [
    {
     "name": "stdout",
     "output_type": "stream",
     "text": [
      "0.21552238336802754\n"
     ]
    }
   ],
   "source": [
    "# create a subset of the df that can be used for train and validation data splitting\n",
    "\n",
    "subset10 = dfDumm.loc[:, [\n",
    " 'median_market_cap',\n",
    " 'fund_return_1month']]\n",
    "\n",
    "# separate data into training and validation \n",
    "S10Train, S10Test, yTrain_S10, yTest_S10 = train_test_split(subset10, y, test_size =0.3, random_state=11)\n",
    "\n",
    "# Instantiate the linear regression model using default parameters\n",
    "olsS10 = LinearRegression()\n",
    "\n",
    "# Fit the model with training data\n",
    "olsS10.fit(S10Train, yTrain_S10)\n",
    "\n",
    "# evaluate the baseline with the r-squared score\n",
    "print(olsS10.score(S10Test, yTest_S10))"
   ]
  },
  {
   "cell_type": "code",
   "execution_count": null,
   "metadata": {},
   "outputs": [],
   "source": []
  },
  {
   "cell_type": "code",
   "execution_count": null,
   "metadata": {},
   "outputs": [],
   "source": []
  },
  {
   "cell_type": "code",
   "execution_count": null,
   "metadata": {},
   "outputs": [],
   "source": []
  },
  {
   "cell_type": "code",
   "execution_count": null,
   "metadata": {},
   "outputs": [],
   "source": []
  },
  {
   "cell_type": "code",
   "execution_count": null,
   "metadata": {},
   "outputs": [],
   "source": []
  },
  {
   "cell_type": "code",
   "execution_count": null,
   "metadata": {},
   "outputs": [],
   "source": []
  },
  {
   "cell_type": "code",
   "execution_count": null,
   "metadata": {},
   "outputs": [],
   "source": []
  }
 ],
 "metadata": {
  "kernelspec": {
   "display_name": "Python 3",
   "language": "python",
   "name": "python3"
  },
  "language_info": {
   "codemirror_mode": {
    "name": "ipython",
    "version": 3
   },
   "file_extension": ".py",
   "mimetype": "text/x-python",
   "name": "python",
   "nbconvert_exporter": "python",
   "pygments_lexer": "ipython3",
   "version": "3.7.6"
  }
 },
 "nbformat": 4,
 "nbformat_minor": 4
}
