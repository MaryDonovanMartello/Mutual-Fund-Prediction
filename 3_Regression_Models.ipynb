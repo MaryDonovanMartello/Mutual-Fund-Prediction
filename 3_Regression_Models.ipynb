{
 "cells": [
  {
   "cell_type": "markdown",
   "metadata": {},
   "source": [
    "# Mutual Fund Price Prediction"
   ]
  },
  {
   "cell_type": "markdown",
   "metadata": {},
   "source": [
    "# Mary Donovan Martello"
   ]
  },
  {
   "cell_type": "markdown",
   "metadata": {},
   "source": [
    "## The goal of this project was to design models to predict mutual fund return values and to identify the features that best predict those return values. This notebook uses a Linear Regression model and a LASSO Linear Regression model to predict the mutual fund price."
   ]
  },
  {
   "cell_type": "markdown",
   "metadata": {},
   "source": [
    "# Part 3:  Regression Models"
   ]
  },
  {
   "cell_type": "code",
   "execution_count": null,
   "metadata": {},
   "outputs": [],
   "source": []
  },
  {
   "cell_type": "code",
   "execution_count": 2,
   "metadata": {},
   "outputs": [],
   "source": [
    "# import libraries\n",
    "from __future__ import print_function, division\n",
    "\n",
    "%matplotlib inline\n",
    "\n",
    "# import libraries\n",
    "\n",
    "import numpy as np\n",
    "import pandas as pd\n",
    "import random\n",
    "import yellowbrick\n",
    "import seaborn as sns\n",
    "import matplotlib.pyplot as plt\n",
    "from IPython.display import Markdown, display\n",
    "\n",
    "from sklearn.preprocessing import StandardScaler\n",
    "from sklearn.decomposition import PCA\n",
    "\n",
    "from sklearn.feature_selection import RFECV\n",
    "from sklearn.linear_model import LinearRegression\n",
    "from sklearn.svm import SVC\n",
    "from sklearn.svm import SVR\n",
    "from sklearn.model_selection import StratifiedKFold\n",
    "from sklearn.model_selection import train_test_split\n",
    "from sklearn.linear_model import Lasso\n",
    "\n",
    "\n",
    "from sklearn import metrics\n",
    "from sklearn.model_selection import StratifiedKFold, KFold, cross_val_score\n",
    "from sklearn.pipeline import make_pipeline\n",
    "\n",
    "#stop unnecessary warnings from printing to the screen\n",
    "import warnings\n",
    "warnings.simplefilter('ignore')"
   ]
  },
  {
   "cell_type": "code",
   "execution_count": null,
   "metadata": {},
   "outputs": [],
   "source": []
  },
  {
   "cell_type": "markdown",
   "metadata": {},
   "source": [
    "### This data source contains 25,000+ mutual funds with 125 features including general aspects (as total net assets, management company and size), portfolio indicators (as cash, stocks, bonds, and sectors), returns (as year-to-date, 2018-10) and financial ratios (as price/earnings, Treynor and Sharpe ratios, alpha, and beta).  The target variable it year-to-date return (ytd_return) of the mutual funds."
   ]
  },
  {
   "cell_type": "code",
   "execution_count": 3,
   "metadata": {},
   "outputs": [],
   "source": [
    "# Load data into a dataframe\n",
    "# import file\n",
    "mf = pd.read_csv('Mutual Funds.csv')\n"
   ]
  },
  {
   "cell_type": "code",
   "execution_count": 4,
   "metadata": {},
   "outputs": [
    {
     "data": {
      "text/html": [
       "<div>\n",
       "<style scoped>\n",
       "    .dataframe tbody tr th:only-of-type {\n",
       "        vertical-align: middle;\n",
       "    }\n",
       "\n",
       "    .dataframe tbody tr th {\n",
       "        vertical-align: top;\n",
       "    }\n",
       "\n",
       "    .dataframe thead th {\n",
       "        text-align: right;\n",
       "    }\n",
       "</style>\n",
       "<table border=\"1\" class=\"dataframe\">\n",
       "  <thead>\n",
       "    <tr style=\"text-align: right;\">\n",
       "      <th></th>\n",
       "      <th>fund_name</th>\n",
       "      <th>fund_extended_name</th>\n",
       "      <th>category</th>\n",
       "      <th>fund_family</th>\n",
       "      <th>net_assets</th>\n",
       "      <th>ytd_return</th>\n",
       "      <th>fund_yield</th>\n",
       "      <th>morningstar_rating</th>\n",
       "      <th>inception_date</th>\n",
       "      <th>investment</th>\n",
       "      <th>...</th>\n",
       "      <th>fund_sharpe_ratio_5years</th>\n",
       "      <th>category_sharpe_ratio_5years</th>\n",
       "      <th>fund_sharpe_ratio_10years</th>\n",
       "      <th>category_sharpe_ratio_10years</th>\n",
       "      <th>fund_treynor_ratio_3years</th>\n",
       "      <th>category_treynor_ratio_3years</th>\n",
       "      <th>fund_treynor_ratio_5years</th>\n",
       "      <th>category_treynor_ratio_5years</th>\n",
       "      <th>fund_treynor_ratio_10years</th>\n",
       "      <th>category_treynor_ratio_10years</th>\n",
       "    </tr>\n",
       "  </thead>\n",
       "  <tbody>\n",
       "    <tr>\n",
       "      <th>0</th>\n",
       "      <td>AAAAX</td>\n",
       "      <td>DWS RREEF Real Assets Fund - Class A</td>\n",
       "      <td>World Allocation</td>\n",
       "      <td>DWS</td>\n",
       "      <td>530280000.0</td>\n",
       "      <td>12.79</td>\n",
       "      <td>1.43</td>\n",
       "      <td>3</td>\n",
       "      <td>2007-07-29</td>\n",
       "      <td>Blend</td>\n",
       "      <td>...</td>\n",
       "      <td>0.31</td>\n",
       "      <td>0.00</td>\n",
       "      <td>0.73</td>\n",
       "      <td>0.01</td>\n",
       "      <td>5.05</td>\n",
       "      <td>0.05</td>\n",
       "      <td>2.26</td>\n",
       "      <td>0.02</td>\n",
       "      <td>6.71</td>\n",
       "      <td>0.07</td>\n",
       "    </tr>\n",
       "    <tr>\n",
       "      <th>1</th>\n",
       "      <td>AAADX</td>\n",
       "      <td>Aberdeen Income Builder Fund Class A</td>\n",
       "      <td>Large Blend</td>\n",
       "      <td>Aberdeen</td>\n",
       "      <td>88840000.0</td>\n",
       "      <td>9.21</td>\n",
       "      <td>2.62</td>\n",
       "      <td>2</td>\n",
       "      <td>2011-12-29</td>\n",
       "      <td>Blend</td>\n",
       "      <td>...</td>\n",
       "      <td>0.62</td>\n",
       "      <td>0.01</td>\n",
       "      <td>0.97</td>\n",
       "      <td>0.01</td>\n",
       "      <td>11.55</td>\n",
       "      <td>0.11</td>\n",
       "      <td>6.91</td>\n",
       "      <td>0.08</td>\n",
       "      <td>12.77</td>\n",
       "      <td>0.14</td>\n",
       "    </tr>\n",
       "  </tbody>\n",
       "</table>\n",
       "<p>2 rows × 125 columns</p>\n",
       "</div>"
      ],
      "text/plain": [
       "  fund_name                    fund_extended_name          category  \\\n",
       "0     AAAAX  DWS RREEF Real Assets Fund - Class A  World Allocation   \n",
       "1     AAADX  Aberdeen Income Builder Fund Class A       Large Blend   \n",
       "\n",
       "  fund_family   net_assets  ytd_return  fund_yield  morningstar_rating  \\\n",
       "0         DWS  530280000.0       12.79        1.43                   3   \n",
       "1    Aberdeen   88840000.0        9.21        2.62                   2   \n",
       "\n",
       "  inception_date investment  ... fund_sharpe_ratio_5years  \\\n",
       "0     2007-07-29      Blend  ...                     0.31   \n",
       "1     2011-12-29      Blend  ...                     0.62   \n",
       "\n",
       "  category_sharpe_ratio_5years  fund_sharpe_ratio_10years  \\\n",
       "0                         0.00                       0.73   \n",
       "1                         0.01                       0.97   \n",
       "\n",
       "   category_sharpe_ratio_10years  fund_treynor_ratio_3years  \\\n",
       "0                           0.01                       5.05   \n",
       "1                           0.01                      11.55   \n",
       "\n",
       "   category_treynor_ratio_3years  fund_treynor_ratio_5years  \\\n",
       "0                           0.05                       2.26   \n",
       "1                           0.11                       6.91   \n",
       "\n",
       "   category_treynor_ratio_5years  fund_treynor_ratio_10years  \\\n",
       "0                           0.02                        6.71   \n",
       "1                           0.08                       12.77   \n",
       "\n",
       "   category_treynor_ratio_10years  \n",
       "0                            0.07  \n",
       "1                            0.14  \n",
       "\n",
       "[2 rows x 125 columns]"
      ]
     },
     "execution_count": 4,
     "metadata": {},
     "output_type": "execute_result"
    }
   ],
   "source": [
    "mf.head(2)"
   ]
  },
  {
   "cell_type": "code",
   "execution_count": null,
   "metadata": {},
   "outputs": [],
   "source": []
  },
  {
   "cell_type": "markdown",
   "metadata": {},
   "source": [
    "### This notebook uses two datasets that were cleaned and prepared in the 1_EDA_Prep_Dimension notebook.  One of the datasets included PCA Components.  The other dataset includes the original features before PCA transformation."
   ]
  },
  {
   "cell_type": "code",
   "execution_count": 3,
   "metadata": {},
   "outputs": [],
   "source": [
    "pcaDf = pd.read_csv('pcaMFdf4.csv')"
   ]
  },
  {
   "cell_type": "code",
   "execution_count": 9,
   "metadata": {},
   "outputs": [],
   "source": [
    "df = pd.read_csv('regMFdf2.csv')"
   ]
  },
  {
   "cell_type": "code",
   "execution_count": null,
   "metadata": {},
   "outputs": [],
   "source": []
  },
  {
   "cell_type": "markdown",
   "metadata": {},
   "source": [
    "**Create feature dataframes for modeling.**"
   ]
  },
  {
   "cell_type": "code",
   "execution_count": 5,
   "metadata": {},
   "outputs": [
    {
     "name": "stdout",
     "output_type": "stream",
     "text": [
      "   investment_Blend  investment_Growth  investment_Value  size_Large  \\\n",
      "0                 1                  0                 0           1   \n",
      "1                 0                  1                 0           1   \n",
      "2                 0                  1                 0           1   \n",
      "3                 1                  0                 0           1   \n",
      "4                 1                  0                 0           1   \n",
      "5                 0                  1                 0           1   \n",
      "6                 1                  0                 0           1   \n",
      "7                 1                  0                 0           1   \n",
      "\n",
      "   size_Medium  size_Small  \n",
      "0            0           0  \n",
      "1            0           0  \n",
      "2            0           0  \n",
      "3            0           0  \n",
      "4            0           0  \n",
      "5            0           0  \n",
      "6            0           0  \n",
      "7            0           0  \n"
     ]
    }
   ],
   "source": [
    "# convert categorical data to numbers\n",
    "\n",
    "#get the categorical data\n",
    "cat_features = ['investment', 'size']\n",
    "df_cat = pcaDf[cat_features]\n",
    "\n",
    "# One Hot Encoding \n",
    "dfDumm = pd.get_dummies(df_cat)\n",
    "\n",
    "# check the data\n",
    "print(dfDumm.head(8))"
   ]
  },
  {
   "cell_type": "markdown",
   "metadata": {},
   "source": [
    "> Create separate dataframes/variables for the feature variables and the target variable "
   ]
  },
  {
   "cell_type": "code",
   "execution_count": 6,
   "metadata": {},
   "outputs": [],
   "source": [
    "# create a whole features dataset that can be used for train and validation data splitting\n",
    "# here we will combine the numerical features and the dummie features together\n",
    "dfNum = pcaDf.drop(['ytd_return', 'investment', 'size'], axis = 1)\n",
    "X = pd.concat([dfNum, dfDumm], axis=1)\n",
    "# create a whole target dataset that can be used for train and validation data splitting\n",
    "y =  pcaDf['ytd_return']\n"
   ]
  },
  {
   "cell_type": "code",
   "execution_count": null,
   "metadata": {},
   "outputs": [],
   "source": []
  },
  {
   "cell_type": "markdown",
   "metadata": {},
   "source": [
    "### In the 2_Feature_Selection_and_Test_Subsets file, the subset of input features that produced the best score was Subset 3."
   ]
  },
  {
   "cell_type": "code",
   "execution_count": 11,
   "metadata": {},
   "outputs": [
    {
     "name": "stdout",
     "output_type": "stream",
     "text": [
      "0.9603314014662799\n"
     ]
    }
   ],
   "source": [
    "# create a subset of the df that can be used for train and validation data splitting\n",
    "\n",
    "subset3 = df.loc[:, [\n",
    " 'fund_return_1month',\n",
    " 'category_return_1month',\n",
    " 'fund_return_3months',\n",
    " 'fund_return_1year',\n",
    " 'category_return_1year',\n",
    " 'fund_return_3years',\n",
    " 'category_return_3years',\n",
    " 'fund_return_5years',\n",
    " 'category_return_5years',\n",
    " 'fund_return_10years',\n",
    " 'category_return_10years',\n",
    " 'fund_return_2018',\n",
    " 'category_return_2018',\n",
    " 'fund_return_2017',\n",
    " 'category_return_2017',\n",
    " 'fund_return_2016',\n",
    " 'category_return_2016',\n",
    " 'fund_return_2015',\n",
    " 'category_return_2015']]\n",
    "\n",
    "# separate data into training and validation \n",
    "S3Train, S3Test, yTrain_S3, yTest_S3 = train_test_split(subset3, y, test_size =0.3, random_state=11)\n",
    "\n",
    "# Instantiate the linear regression model using default parameters\n",
    "olsS3 = LinearRegression()\n",
    "\n",
    "# Fit the model with training data\n",
    "olsS3.fit(S3Train, yTrain_S3)\n",
    "\n",
    "# evaluate the baseline with the r-squared score\n",
    "print(olsS3.score(S3Test, yTest_S3))"
   ]
  },
  {
   "cell_type": "code",
   "execution_count": null,
   "metadata": {},
   "outputs": [],
   "source": []
  },
  {
   "cell_type": "markdown",
   "metadata": {},
   "source": [
    "## Model Evaluation"
   ]
  },
  {
   "cell_type": "markdown",
   "metadata": {},
   "source": [
    "### Improve on baseline model by using k-fold cross-validation (instead of the holdout method) to split the data for fitting and testing."
   ]
  },
  {
   "cell_type": "markdown",
   "metadata": {},
   "source": [
    "> **K-fold cross-validation (with scaling test data)**"
   ]
  },
  {
   "cell_type": "markdown",
   "metadata": {},
   "source": [
    "### Linear Regression Model"
   ]
  },
  {
   "cell_type": "markdown",
   "metadata": {},
   "source": [
    "**Using all the features results in great scores.**"
   ]
  },
  {
   "cell_type": "code",
   "execution_count": 191,
   "metadata": {},
   "outputs": [
    {
     "name": "stdout",
     "output_type": "stream",
     "text": [
      "0.9631086523406254\n",
      "[0.96309957 0.96295623 0.96369759 0.96585185 0.95927658 0.96398974\n",
      " 0.95520035 0.96729712 0.96389836 0.96581913]\n",
      "results\n"
     ]
    }
   ],
   "source": [
    "#K-fold cross-validation (with scaling test data)\n",
    "\n",
    "# create standardizer\n",
    "standardizer=StandardScaler()\n",
    "# create linear regression object\n",
    "ols11_1=LinearRegression()\n",
    "# create a pipeline that standardizes, then runs linear regression\n",
    "pipeline=make_pipeline(standardizer, ols11_1)\n",
    "# create k-fold cross-validation\n",
    "kf= KFold(n_splits=10, shuffle=True, random_state=1)\n",
    "# conduct a k-fold cross-validation\n",
    "cv_results=cross_val_score(pipeline, # Pipeline\n",
    "                           X, # Feature matrix\n",
    "                           y,#target vector\n",
    "                           cv=kf, # Cross-validation technique\n",
    "                           scoring = 'r2', # Loss function\n",
    "                           n_jobs = -1)\n",
    "print(cv_results.mean())\n",
    "print (cv_results)\n",
    "print(\"results\")"
   ]
  },
  {
   "cell_type": "code",
   "execution_count": null,
   "metadata": {},
   "outputs": [],
   "source": []
  },
  {
   "cell_type": "markdown",
   "metadata": {},
   "source": [
    "**Try the best subset of features to see if it improves on using all the features.**"
   ]
  },
  {
   "cell_type": "code",
   "execution_count": 12,
   "metadata": {},
   "outputs": [
    {
     "name": "stdout",
     "output_type": "stream",
     "text": [
      "0.9631293237586058\n",
      "[0.96575047 0.96237225 0.96740153 0.96295417 0.95486857 0.96615269\n",
      " 0.95590204 0.96452373 0.96443431 0.96693348]\n",
      "results\n"
     ]
    }
   ],
   "source": [
    "#K-fold cross-validation (with scaling test data)\n",
    "\n",
    "# create standardizer\n",
    "standardizer=StandardScaler()\n",
    "# create linear regression object\n",
    "ols11_1=LinearRegression()\n",
    "# create a pipeline that standardizes, then runs linear regression\n",
    "pipeline=make_pipeline(standardizer, ols11_1)\n",
    "# create k-fold cross-validation\n",
    "kf= KFold(n_splits=10, shuffle=True, random_state=1)\n",
    "# conduct a k-fold cross-validation\n",
    "cv_results=cross_val_score(pipeline, # Pipeline\n",
    "                           subset3, # Feature matrix\n",
    "                           y,#target vector\n",
    "                           cv=kf, # Cross-validation technique\n",
    "                           scoring = 'r2', # Loss function\n",
    "                           n_jobs = -1)\n",
    "print(cv_results.mean())\n",
    "print (cv_results)\n",
    "print(\"results\")"
   ]
  },
  {
   "cell_type": "code",
   "execution_count": null,
   "metadata": {},
   "outputs": [],
   "source": []
  },
  {
   "cell_type": "markdown",
   "metadata": {},
   "source": [
    "**Make Predictions with Best Subset of Features**"
   ]
  },
  {
   "cell_type": "code",
   "execution_count": 14,
   "metadata": {
    "scrolled": true
   },
   "outputs": [
    {
     "data": {
      "image/png": "[encoded data removed]",
      "text/plain": [
       "<Figure size 576x396 with 1 Axes>"
      ]
     },
     "metadata": {},
     "output_type": "display_data"
    }
   ],
   "source": [
    "# Try cross=validation predict\n",
    "from sklearn.model_selection import cross_val_predict\n",
    "import matplotlib.pyplot as plt \n",
    "\n",
    "\n",
    "#K-fold cross-validation (with scaling test data)\n",
    "\n",
    "# create standardizer\n",
    "standardizer=StandardScaler()\n",
    "\n",
    "# create linear regression object\n",
    "ols11_1=LinearRegression()\n",
    "\n",
    "# create a pipeline that standardizes, then runs linear regression\n",
    "pipeline=make_pipeline(standardizer, ols11_1)\n",
    "\n",
    "# create k-fold cross-validation\n",
    "kf= KFold(n_splits=10, shuffle=True, random_state=1)\n",
    "\n",
    "# conduct a k-fold cross-validation\n",
    "predictedLR_S3 = cross_val_predict(pipeline, # Pipeline\n",
    "                           subset3, # Feature matrix\n",
    "                           y,#target vector\n",
    "                           cv=kf, # Cross-validation technique\n",
    "                           n_jobs = -1)\n",
    "\n",
    "fig, ax = plt.subplots()\n",
    "ax.scatter(y, predictedLR_S3, edgecolors=(0, 0, 0))\n",
    "ax.plot([y.min(), y.max()], [y.min(), y.max()], 'k--', lw=4)\n",
    "ax.set_xlabel('Measured')\n",
    "ax.set_ylabel('Predicted')\n",
    "plt.show()\n"
   ]
  },
  {
   "cell_type": "code",
   "execution_count": null,
   "metadata": {},
   "outputs": [],
   "source": []
  },
  {
   "cell_type": "markdown",
   "metadata": {},
   "source": [
    "**Use predictions to calculate metrics.**"
   ]
  },
  {
   "cell_type": "code",
   "execution_count": 16,
   "metadata": {},
   "outputs": [
    {
     "name": "stdout",
     "output_type": "stream",
     "text": [
      "r-squared: 0.963044\n",
      "Mean Squared Error: 0.994081\n",
      "Mean Absolute Error: 0.670680\n",
      "Median Absolute Error: 0.462541\n",
      "Root Mean Squared Error: 0.997036\n"
     ]
    }
   ],
   "source": [
    "# use predictions to do metrics\n",
    "from sklearn.metrics import r2_score \n",
    "from sklearn.metrics import mean_squared_error \n",
    "from sklearn.metrics import mean_absolute_error \n",
    "from sklearn.metrics import median_absolute_error  \n",
    "\n",
    "# coefficient of determination r-squared R2\n",
    "r2 = r2_score(y, predictedLR_S3) \n",
    "print('r-squared: %f' % r2)\n",
    "\n",
    "# mean squared error MSE \n",
    "MSE = mean_squared_error(y, predictedLR_S3) \n",
    "print('Mean Squared Error: %f' % MSE) \n",
    "\n",
    "# mean absolute error MAE \n",
    "MAE = mean_absolute_error(y, predictedLR_S3) \n",
    "print('Mean Absolute Error: %f' % MAE) \n",
    "\n",
    "# Median absolute error MDAE \n",
    "MDAE = median_absolute_error(y, predictedLR_S3) \n",
    "print('Median Absolute Error: %f' % MDAE)   \n",
    "\n",
    "# root mean squared error RMSE \n",
    "RMSE = np.sqrt(mean_squared_error(y, predictedLR_S3)) \n",
    "print('Root Mean Squared Error: %f' % RMSE)"
   ]
  },
  {
   "cell_type": "code",
   "execution_count": null,
   "metadata": {},
   "outputs": [],
   "source": []
  },
  {
   "cell_type": "markdown",
   "metadata": {},
   "source": [
    "### LASSO Linear Regression Model."
   ]
  },
  {
   "cell_type": "markdown",
   "metadata": {},
   "source": [
    "**After evaluating a regular linear regression model, I also tried a LASSO regression model in order to try to reduce features because my dataset still has many features.**"
   ]
  },
  {
   "cell_type": "markdown",
   "metadata": {},
   "source": [
    "**Using all the features results in good scores.**"
   ]
  },
  {
   "cell_type": "code",
   "execution_count": 76,
   "metadata": {},
   "outputs": [
    {
     "name": "stdout",
     "output_type": "stream",
     "text": [
      "0.8222247132920115\n",
      "[0.82132675 0.80976706 0.83907596 0.83892435 0.79666066 0.82579443\n",
      " 0.80443859 0.83206935 0.8206535  0.83353649]\n",
      "results\n"
     ]
    }
   ],
   "source": [
    "#Lasso Regression to reduce features / Cross-validation (with scaling train data)\n",
    "\n",
    "#load libraries\n",
    "from sklearn.linear_model import Lasso\n",
    "from sklearn.preprocessing import StandardScaler\n",
    "\n",
    "# create standardizer\n",
    "standardizer=StandardScaler()\n",
    "\n",
    "#Create lasso regression object with alpha value\n",
    "lasso = Lasso(alpha=0.5)\n",
    "\n",
    "# create a pipeline that standardizes, then runs linear regression\n",
    "pipeline=make_pipeline(standardizer, lasso)\n",
    "# create k-fold cross-validation\n",
    "kf= KFold(n_splits=10, shuffle=True, random_state=1)\n",
    "# conduct a k-fold cross-validation\n",
    "cv_results=cross_val_score(pipeline, # Pipeline\n",
    "                           X, # Feature matrix\n",
    "                           y,#target vector\n",
    "                           cv=kf, # Cross-validation technique\n",
    "                           scoring = 'r2', # Loss function\n",
    "                           n_jobs = -1)\n",
    "print(cv_results.mean())\n",
    "print (cv_results)\n",
    "print(\"results\")\n"
   ]
  },
  {
   "cell_type": "code",
   "execution_count": null,
   "metadata": {},
   "outputs": [],
   "source": []
  },
  {
   "cell_type": "markdown",
   "metadata": {},
   "source": [
    "**Try the best subset of features to see if it improves on using all the features.**"
   ]
  },
  {
   "cell_type": "code",
   "execution_count": 18,
   "metadata": {},
   "outputs": [
    {
     "name": "stdout",
     "output_type": "stream",
     "text": [
      "0.9069545235339465\n",
      "[0.91711858 0.91061979 0.91555531 0.91678793 0.88104725 0.91233663\n",
      " 0.88638555 0.90046709 0.91429857 0.91492854]\n",
      "results\n"
     ]
    }
   ],
   "source": [
    "#Lasso Regression to reduce features / Cross-validation (with scaling train data)\n",
    "\n",
    "#load libraries\n",
    "from sklearn.linear_model import Lasso\n",
    "from sklearn.preprocessing import StandardScaler\n",
    "\n",
    "# create standardizer\n",
    "standardizer=StandardScaler()\n",
    "\n",
    "#Create lasso regression object with alpha value\n",
    "lasso = Lasso(alpha=0.5)\n",
    "\n",
    "# create a pipeline that standardizes, then runs linear regression\n",
    "pipeline=make_pipeline(standardizer, lasso)\n",
    "# create k-fold cross-validation\n",
    "kf= KFold(n_splits=10, shuffle=True, random_state=1)\n",
    "# conduct a k-fold cross-validation\n",
    "cv_results=cross_val_score(pipeline, # Pipeline\n",
    "                           subset3, # Feature matrix\n",
    "                           y,#target vector\n",
    "                           cv=kf, # Cross-validation technique\n",
    "                           scoring = 'r2', # Loss function\n",
    "                           n_jobs = -1)\n",
    "print(cv_results.mean())\n",
    "print (cv_results)\n",
    "print(\"results\")"
   ]
  },
  {
   "cell_type": "code",
   "execution_count": null,
   "metadata": {},
   "outputs": [],
   "source": []
  },
  {
   "cell_type": "code",
   "execution_count": null,
   "metadata": {},
   "outputs": [],
   "source": []
  },
  {
   "cell_type": "markdown",
   "metadata": {},
   "source": [
    "## Tune Hyperparameters"
   ]
  },
  {
   "cell_type": "markdown",
   "metadata": {},
   "source": [
    "**Using all the features results in great scores, and much better than without tuning the hyperparameters.**"
   ]
  },
  {
   "cell_type": "code",
   "execution_count": 78,
   "metadata": {},
   "outputs": [
    {
     "name": "stdout",
     "output_type": "stream",
     "text": [
      "0.9630643248724535\n",
      "[0.9628967  0.96262766 0.96367544 0.96588602 0.95947351 0.96394206\n",
      " 0.95517969 0.9673468  0.96389104 0.96572432]\n",
      "results\n"
     ]
    }
   ],
   "source": [
    "# grid search in a pipeline with lasso regression (with scaling) / cross-validation\n",
    "\n",
    "from sklearn.model_selection import GridSearchCV\n",
    "\n",
    "# create standardizer\n",
    "standardizer=StandardScaler()\n",
    "\n",
    "#Create lasso regression object with alpha value\n",
    "# Instantiate the linear regression model using default parameters.\n",
    "lasso = Lasso()\n",
    "\n",
    "# create dictionary/range of alpha values to be used to tune the hyperparameter of the model\n",
    "param_lasso={'alpha': [0.005, 0.05, 0.1, 0.2, 0.3]}\n",
    "\n",
    "# create the grid search\n",
    "grid = GridSearchCV(lasso, param_lasso, cv=5, verbose=0)\n",
    "\n",
    "# create a pipeline that standardizes, then runs linear regression\n",
    "pipeline=make_pipeline(standardizer, grid)\n",
    "# create k-fold cross-validation\n",
    "kf= KFold(n_splits=10, shuffle=True, random_state=1)\n",
    "# conduct a k-fold cross-validation\n",
    "cv_results=cross_val_score(pipeline, # Pipeline\n",
    "                           X, # Feature matrix\n",
    "                           y,#target vector\n",
    "                           cv=kf, # Cross-validation technique\n",
    "                           scoring = 'r2', # Loss function\n",
    "                           n_jobs = -1)\n",
    "print(cv_results.mean())\n",
    "print (cv_results)\n",
    "print(\"results\")"
   ]
  },
  {
   "cell_type": "code",
   "execution_count": null,
   "metadata": {},
   "outputs": [],
   "source": []
  },
  {
   "cell_type": "markdown",
   "metadata": {},
   "source": [
    "**Try the best subset of features to see if it improves on using all the features.**"
   ]
  },
  {
   "cell_type": "code",
   "execution_count": 19,
   "metadata": {},
   "outputs": [
    {
     "name": "stdout",
     "output_type": "stream",
     "text": [
      "0.9628585052867941\n",
      "[0.96552559 0.96200076 0.96717758 0.96317371 0.95446767 0.96600642\n",
      " 0.95545277 0.96403713 0.96400676 0.96673666]\n",
      "results\n"
     ]
    }
   ],
   "source": [
    "# use best subset from baseline models\n",
    "# grid search in a pipeline with lasso regression (with scaling) / cross-validation\n",
    "\n",
    "from sklearn.model_selection import GridSearchCV\n",
    "\n",
    "# create standardizer\n",
    "standardizer=StandardScaler()\n",
    "\n",
    "#Create lasso regression object with alpha value\n",
    "# Instantiate the linear regression model using default parameters.\n",
    "lasso = Lasso()\n",
    "\n",
    "# create dictionary/range of alpha values to be used to tune the hyperparameter of the model\n",
    "param_lasso={'alpha': [0.005, 0.05, 0.1, 0.2, 0.3]}\n",
    "\n",
    "# create the grid search\n",
    "grid = GridSearchCV(lasso, param_lasso, cv=5, verbose=0)\n",
    "\n",
    "# create a pipeline that standardizes, then runs linear regression\n",
    "pipeline=make_pipeline(standardizer, grid)\n",
    "# create k-fold cross-validation\n",
    "kf= KFold(n_splits=10, shuffle=True, random_state=1)\n",
    "# conduct a k-fold cross-validation\n",
    "cv_results=cross_val_score(pipeline, # Pipeline\n",
    "                           subset3, # Feature matrix\n",
    "                           y,#target vector\n",
    "                           cv=kf, # Cross-validation technique\n",
    "                           scoring = 'r2', # Loss function\n",
    "                           n_jobs = -1)\n",
    "print(cv_results.mean())\n",
    "print (cv_results)\n",
    "print(\"results\")"
   ]
  },
  {
   "cell_type": "code",
   "execution_count": null,
   "metadata": {},
   "outputs": [],
   "source": []
  },
  {
   "cell_type": "markdown",
   "metadata": {},
   "source": [
    "**Use the tuned model to make predictions.**"
   ]
  },
  {
   "cell_type": "code",
   "execution_count": 21,
   "metadata": {},
   "outputs": [
    {
     "data": {
      "image/png": "[encoded data removed]",
      "text/plain": [
       "<Figure size 576x396 with 1 Axes>"
      ]
     },
     "metadata": {},
     "output_type": "display_data"
    }
   ],
   "source": [
    "\n",
    "# Try cross_validation predict\n",
    "from sklearn.model_selection import cross_val_predict\n",
    "import matplotlib.pyplot as plt \n",
    "\n",
    "# grid search in a pipeline with lasso regression (with scaling) / cross-validation\n",
    "from sklearn.model_selection import GridSearchCV\n",
    "\n",
    "# create standardizer\n",
    "standardizer=StandardScaler()\n",
    "\n",
    "#Create lasso regression object with alpha value\n",
    "# Instantiate the linear regression model using default parameters.\n",
    "lasso = Lasso()\n",
    "\n",
    "# create dictionary/range of alpha values to be used to tune the hyperparameter of the model\n",
    "param_lasso={'alpha': [0.005, 0.05, 0.1, 0.2, 0.3]}\n",
    "\n",
    "# create the grid search\n",
    "grid = GridSearchCV(lasso, param_lasso, cv=5, verbose=0)\n",
    "\n",
    "# create a pipeline that standardizes, then runs linear regression\n",
    "pipeline=make_pipeline(standardizer, grid)\n",
    "# create k-fold cross-validation\n",
    "kf= KFold(n_splits=10, shuffle=True, random_state=1)\n",
    "# conduct a k-fold cross-validation\n",
    "predictLASSO_S3 = cross_val_predict(pipeline, # Pipeline\n",
    "                           subset3, # Feature matrix\n",
    "                           y,#target vector\n",
    "                           cv=kf, # Cross-validation technique\n",
    "                           n_jobs = -1)\n",
    "fig, ax = plt.subplots()\n",
    "ax.scatter(y, predictLASSO_S3, edgecolors=(0, 0, 0))\n",
    "ax.plot([y.min(), y.max()], [y.min(), y.max()], 'k--', lw=4)\n",
    "ax.set_xlabel('Measured')\n",
    "ax.set_ylabel('Predicted')\n",
    "plt.show()\n",
    "\n",
    "\n"
   ]
  },
  {
   "cell_type": "code",
   "execution_count": null,
   "metadata": {},
   "outputs": [],
   "source": []
  },
  {
   "cell_type": "markdown",
   "metadata": {},
   "source": [
    "**Use predictions to calculate metrics.**"
   ]
  },
  {
   "cell_type": "code",
   "execution_count": 22,
   "metadata": {},
   "outputs": [
    {
     "name": "stdout",
     "output_type": "stream",
     "text": [
      "r-squared: 0.962770\n",
      "Mean Squared Error: 1.001440\n",
      "Mean Absolute Error: 0.672556\n",
      "Median Absolute Error: 0.466584\n",
      "Root Mean Squared Error: 1.000720\n"
     ]
    }
   ],
   "source": [
    "# use predictions to do metrics\n",
    "from sklearn.metrics import r2_score \n",
    "from sklearn.metrics import mean_squared_error \n",
    "from sklearn.metrics import mean_absolute_error \n",
    "from sklearn.metrics import median_absolute_error  \n",
    "\n",
    "# coefficient of determination r-squared \n",
    "r2 = r2_score(y, predictLASSO_S3) \n",
    "print('r-squared: %f' % r2) \n",
    "\n",
    "# mean squared error MSE \n",
    "MSE = mean_squared_error(y, predictLASSO_S3) \n",
    "print('Mean Squared Error: %f' % MSE) \n",
    "\n",
    "# mean absolute error MAE \n",
    "MAE = mean_absolute_error(y, predictLASSO_S3) \n",
    "print('Mean Absolute Error: %f' % MAE) \n",
    "\n",
    "# Median absolute error MDAE \n",
    "MDAE = median_absolute_error(y, predictLASSO_S3) \n",
    "print('Median Absolute Error: %f' % MDAE)   \n",
    "\n",
    "# root mean squared error MSE \n",
    "RMSE = np.sqrt(mean_squared_error(y, predictLASSO_S3)) \n",
    "print('Root Mean Squared Error: %f' % RMSE)"
   ]
  },
  {
   "cell_type": "code",
   "execution_count": null,
   "metadata": {},
   "outputs": [],
   "source": []
  },
  {
   "cell_type": "code",
   "execution_count": null,
   "metadata": {},
   "outputs": [],
   "source": []
  },
  {
   "cell_type": "code",
   "execution_count": null,
   "metadata": {},
   "outputs": [],
   "source": []
  },
  {
   "cell_type": "code",
   "execution_count": null,
   "metadata": {},
   "outputs": [],
   "source": []
  },
  {
   "cell_type": "code",
   "execution_count": null,
   "metadata": {},
   "outputs": [],
   "source": []
  }
 ],
 "metadata": {
  "kernelspec": {
   "display_name": "Python 3",
   "language": "python",
   "name": "python3"
  },
  "language_info": {
   "codemirror_mode": {
    "name": "ipython",
    "version": 3
   },
   "file_extension": ".py",
   "mimetype": "text/x-python",
   "name": "python",
   "nbconvert_exporter": "python",
   "pygments_lexer": "ipython3",
   "version": "3.7.6"
  }
 },
 "nbformat": 4,
 "nbformat_minor": 4
}
